{
 "cells": [
  {
   "cell_type": "code",
   "execution_count": null,
   "metadata": {},
   "outputs": [],
   "source": [
    "import ee\n",
    "ee.Authenticate(auth_mode=\"notebook\")\n",
    "ee.Initialize()\n"
   ]
  },
  {
   "cell_type": "code",
   "execution_count": null,
   "metadata": {},
   "outputs": [],
   "source": [
    "geometry = ee.Geometry.Rectangle([-52.89, 71.55, -51.43, 71.82])\n",
    "\n",
    "DATA_PRODUCT = 'LANDSAT/LE07/C01/T1'\n",
    "SEL_BANDS = ['B1','B2','B3']\n",
    "start = ee.Date(f'2000-07-20')\n",
    "end = ee.Date(f'2013-09-10')"
   ]
  },
  {
   "cell_type": "code",
   "execution_count": null,
   "metadata": {},
   "outputs": [
    {
     "name": "stdout",
     "output_type": "stream",
     "text": [
      "36\n"
     ]
    }
   ],
   "source": [
    "folder = 'MyImageExports'\n",
    "\n",
    "# Get the number of bands in the image\n",
    "collection = (\n",
    "    ee.ImageCollection(DATA_PRODUCT)\n",
    "    .filterBounds(geometry)\n",
    "    .filterDate(start, end)\n",
    "    .select(SEL_BANDS)\n",
    "    .filterMetadata('CLOUD_COVER', 'less_than', 30)\n",
    ")\n",
    "\n",
    "# Combine selected bands into a single image\n",
    "# rgb_image = collection.select(bands).toUint8()\n",
    "c = collection.size().getInfo()\n",
    "\n",
    "print(c)"
   ]
  },
  {
   "cell_type": "code",
   "execution_count": null,
   "metadata": {},
   "outputs": [],
   "source": [
    "\n",
    "\n",
    "for i in range(c):\n",
    "# Define the export parameters\n",
    "    img = ee.Image(collection.toList(c).get(i))\n",
    "    fname = img.get('system:id').getInfo().split('/')[-1]\n",
    "    print(i,fname)\n",
    "    # img = collection.get(i)\n",
    "    export_params = {\n",
    "        'image': img,\n",
    "        'folder': folder,\n",
    "        'description': f'{i}{fname}',\n",
    "        'region': geometry,\n",
    "        'scale': 30,  # Adjust as needed\n",
    "        'fileFormat': 'GeoTIFF',  # Export as GeoTIFF\n",
    "    }\n",
    "\n",
    "    # Export the image to your local machine\n",
    "    # task = ee.batch.Export.image.toDrive(**export_params)\n",
    "    # task.start()\n"
   ]
  }
 ],
 "metadata": {
  "kernelspec": {
   "display_name": "Python 3",
   "language": "python",
   "name": "python3"
  },
  "language_info": {
   "codemirror_mode": {
    "name": "ipython",
    "version": 3
   },
   "file_extension": ".py",
   "mimetype": "text/x-python",
   "name": "python",
   "nbconvert_exporter": "python",
   "pygments_lexer": "ipython3",
   "version": "3.12.1"
  }
 },
 "nbformat": 4,
 "nbformat_minor": 2
}
