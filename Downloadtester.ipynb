{
 "cells": [
  {
   "cell_type": "code",
   "execution_count": 5,
   "metadata": {},
   "outputs": [],
   "source": [
    "import ee\n",
    "ee.Initialize()\n"
   ]
  },
  {
   "cell_type": "code",
   "execution_count": 6,
   "metadata": {},
   "outputs": [],
   "source": [
    "geometry = ee.Geometry.Rectangle([-52.89, 71.55, -51.43, 71.82])\n",
    "\n",
    "DATA_PRODUCT = 'LANDSAT/LE07/C01/T1'\n",
    "SEL_BANDS = ['B1','B2','B3']\n",
    "start = ee.Date(f'2000-07-20')\n",
    "end = ee.Date(f'2013-09-10')"
   ]
  },
  {
   "cell_type": "code",
   "execution_count": 7,
   "metadata": {},
   "outputs": [
    {
     "name": "stdout",
     "output_type": "stream",
     "text": [
      "36\n"
     ]
    }
   ],
   "source": [
    "folder = 'MyImageExports'\n",
    "\n",
    "# Get the number of bands in the image\n",
    "collection = (\n",
    "    ee.ImageCollection(DATA_PRODUCT)\n",
    "    .filterBounds(geometry)\n",
    "    .filterDate(start, end)\n",
    "    .select(SEL_BANDS)\n",
    "    .filterMetadata('CLOUD_COVER', 'less_than', 30)\n",
    ")\n",
    "\n",
    "# Combine selected bands into a single image\n",
    "# rgb_image = collection.select(bands).toUint8()\n",
    "c = collection.size().getInfo()\n",
    "\n",
    "print(c)"
   ]
  },
  {
   "cell_type": "code",
   "execution_count": 8,
   "metadata": {},
   "outputs": [
    {
     "name": "stdout",
     "output_type": "stream",
     "text": [
      "0 LE07_011010_20010315\n",
      "1 LE07_011010_20010331\n",
      "2 LE07_011010_20010518\n",
      "3 LE07_011010_20010705\n",
      "4 LE07_011010_20010822\n",
      "5 LE07_012009_20000810\n",
      "6 LE07_012009_20000826\n",
      "7 LE07_012009_20000911\n",
      "8 LE07_012009_20001013\n",
      "9 LE07_012009_20010509\n",
      "10 LE07_012009_20010728\n",
      "11 LE07_012010_20000826\n",
      "12 LE07_012010_20001013\n",
      "13 LE07_012010_20010322\n",
      "14 LE07_012010_20010509\n",
      "15 LE07_012010_20010610\n",
      "16 LE07_012010_20010712\n",
      "17 LE07_012010_20010829\n",
      "18 LE07_013009_20010329\n",
      "19 LE07_013009_20010601\n",
      "20 LE07_013009_20010703\n",
      "21 LE07_013009_20010804\n",
      "22 LE07_013010_20010329\n",
      "23 LE07_013010_20010601\n",
      "24 LE07_013010_20010703\n",
      "25 LE07_013010_20010804\n",
      "26 LE07_014009_20000808\n",
      "27 LE07_014009_20000909\n",
      "28 LE07_014009_20010320\n",
      "29 LE07_014009_20010507\n",
      "30 LE07_014009_20010710\n",
      "31 LE07_015009_20001018\n",
      "32 LE07_015009_20010311\n",
      "33 LE07_015009_20010327\n",
      "34 LE07_015009_20010514\n",
      "35 LE07_015009_20010701\n"
     ]
    }
   ],
   "source": [
    "\n",
    "\n",
    "for i in range(c):\n",
    "# Define the export parameters\n",
    "    img = ee.Image(collection.toList(c).get(i))\n",
    "    fname = img.get('system:id').getInfo().split('/')[-1]\n",
    "    print(i,fname)\n",
    "    # img = collection.get(i)\n",
    "    export_params = {\n",
    "        'image': img,\n",
    "        'folder': folder,\n",
    "        'description': f'{i}{fname}',\n",
    "        'region': geometry,\n",
    "        'scale': 30,  # Adjust as needed\n",
    "        'fileFormat': 'GeoTIFF',  # Export as GeoTIFF\n",
    "    }\n",
    "\n",
    "    # Export the image to your local machine\n",
    "    task = ee.batch.Export.image.toDrive(**export_params)\n",
    "    task.start()\n"
   ]
  },
  {
   "cell_type": "code",
   "execution_count": null,
   "metadata": {},
   "outputs": [],
   "source": []
  }
 ],
 "metadata": {
  "kernelspec": {
   "display_name": "Python 3",
   "language": "python",
   "name": "python3"
  },
  "language_info": {
   "codemirror_mode": {
    "name": "ipython",
    "version": 3
   },
   "file_extension": ".py",
   "mimetype": "text/x-python",
   "name": "python",
   "nbconvert_exporter": "python",
   "pygments_lexer": "ipython3",
   "version": "3.10.12"
  }
 },
 "nbformat": 4,
 "nbformat_minor": 2
}
