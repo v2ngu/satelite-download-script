{
 "cells": [
  {
   "cell_type": "code",
   "execution_count": 36,
   "metadata": {},
   "outputs": [],
   "source": [
    "import ee\n",
    "ee.Initialize()\n",
    "import requests\n",
    "import os\n",
    "import zipfile\n",
    "#RnkUmmi -52.89 71.55 -51.43 71.82"
   ]
  },
  {
   "cell_type": "markdown",
   "metadata": {},
   "source": [
    "The process to authenticate Earth Engine"
   ]
  },
  {
   "cell_type": "code",
   "execution_count": 37,
   "metadata": {},
   "outputs": [],
   "source": [
    "#Creates a geometry object with cordinates of RnkUmmi\n",
    "geometry = ee.Geometry.Rectangle([-52.89, 71.55, -51.43, 71.82])\n",
    "\n",
    "#variables that Jonathan had\n",
    "data_product = 'LANDSAT/LE07/C01/T1'\n",
    "sel_bands = ['B5','B4','B3']\n",
    "year = 2011\n",
    "start = ee.Date(f'{year}-07-20')\n",
    "end = ee.Date(f'{year}-09-10')\n",
    "\n",
    "#This is a imageCollection object that has all the filters applied\n",
    "filteredCollection = ee.ImageCollection(data_product).filterBounds(geometry).filterDate(start, end).select(sel_bands).filterMetadata('CLOUD_COVER', 'less_than', 30)\n",
    "\n",
    "\n"
   ]
  },
  {
   "cell_type": "markdown",
   "metadata": {},
   "source": []
  },
  {
   "cell_type": "code",
   "execution_count": 38,
   "metadata": {},
   "outputs": [
    {
     "name": "stdout",
     "output_type": "stream",
     "text": [
      "count is 5\n",
      "\n",
      "Downloading to: _Landsat-7/data_0.zip\n",
      "Downloaded data_0.zip\n",
      "Error extracting\n",
      "Downloading to: _Landsat-7/data_1.zip\n",
      "Downloaded data_1.zip\n",
      "Error extracting\n",
      "Downloading to: _Landsat-7/data_2.zip\n",
      "Downloaded data_2.zip\n",
      "Error extracting\n",
      "Downloading to: _Landsat-7/data_3.zip\n",
      "Downloaded data_3.zip\n",
      "Error extracting\n",
      "Downloading to: _Landsat-7/data_4.zip\n",
      "Downloaded data_4.zip\n",
      "Error extracting\n",
      "Downloading complete\n"
     ]
    }
   ],
   "source": [
    "\n",
    "\n",
    "#How many images are in the object\n",
    "count = filteredCollection.size().getInfo()\n",
    "\n",
    "print(\"count is %d\"%(count))\n",
    "\n",
    "#Why does the collection size say 5 when there are only 3 images? returns (Bands) and (Properties)\n",
    "\n",
    "if(count > 0):\n",
    "    print(\"\")\n",
    "\n",
    "#creates a temp folder to download the images to\n",
    "save_folder =  '_Landsat-7'\n",
    "os.makedirs(save_folder, exist_ok=True)\n",
    "\n",
    "#Why is this list filtered?\n",
    "filtered_list=filteredCollection.toList(filteredCollection.size())\n",
    "\n",
    "#Make sure the list are inside the geometry object\n",
    "for i in range(count):\n",
    "    image = ee.Image(filtered_list.get(i)).clip(geometry)\n",
    "\n",
    "    #creates the download url for the image\n",
    "    url = image.getDownloadURL()\n",
    "\n",
    "    #makes a request to download the image\n",
    "    r=requests.get(url)\n",
    "\n",
    "    #names each file \n",
    "    filename = f\"data_{i}.zip\"\n",
    "    filepath = os.path.join(save_folder, filename)\n",
    "    print(f\"Downloading to: {filepath}\")\n",
    "\n",
    "    try:\n",
    "        #Download and saves the image\n",
    "        with open(filepath, 'wb') as f:\n",
    "            f.write(r.content)\n",
    "        print(f\"Downloaded {filename}\")\n",
    "    except Exception as e:\n",
    "        print(f\"Error failure to download\")\n",
    "    try:\n",
    "        with zipfile.ZipFile(filepath) as f:\n",
    "            files = f.namelist()\n",
    "            f.extractall(save_folder)\n",
    "        os.remove(filepath)\n",
    "    except zipfile.BadZipFile:\n",
    "        print('Skipping - Not a valid ZIP file')\n",
    "    except Exception as e:\n",
    "        print('Error extracting')\n",
    "# image = ee.Image(filtered_list.get(0)).clip(geometry)\n",
    "\n",
    "\n",
    "print(\"Downloading complete\")\n",
    "#Downloads the data locally\n",
    "# name='./'+save_folder+'/'+'data.zip'\n",
    "# path='./'+save_folder\n"
   ]
  }
 ],
 "metadata": {
  "kernelspec": {
   "display_name": "Python 3",
   "language": "python",
   "name": "python3"
  },
  "language_info": {
   "codemirror_mode": {
    "name": "ipython",
    "version": 3
   },
   "file_extension": ".py",
   "mimetype": "text/x-python",
   "name": "python",
   "nbconvert_exporter": "python",
   "pygments_lexer": "ipython3",
   "version": "3.10.12"
  }
 },
 "nbformat": 4,
 "nbformat_minor": 2
}
