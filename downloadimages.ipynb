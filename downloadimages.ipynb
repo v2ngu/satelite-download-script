{
 "cells": [
  {
   "cell_type": "code",
   "execution_count": 3,
   "metadata": {},
   "outputs": [],
   "source": [
    "import ee\n",
    "ee.Initialize()\n",
    "import requests\n",
    "import os\n",
    "import zipfile\n",
    "#RnkUmmi -52.89 71.55 -51.43 71.82"
   ]
  },
  {
   "cell_type": "markdown",
   "metadata": {},
   "source": [
    "The process to authenticate Earth Engine"
   ]
  },
  {
   "cell_type": "code",
   "execution_count": 4,
   "metadata": {},
   "outputs": [],
   "source": [
    "#Creates a geometry object with cordinates of RnkUmmi\n",
    "geometry = ee.Geometry.Rectangle([-52.89, 71.55, -51.43, 71.82])\n",
    "\n",
    "#variables that Jonathan had\n",
    "data_product = 'LANDSAT/LE07/C01/T1'\n",
    "sel_bands = ['B5','B4','B3']\n",
    "year = 2011\n",
    "start = ee.Date(f'{year}-07-20')\n",
    "end = ee.Date(f'{year}-09-10')\n",
    "\n",
    "#This is a imageCollection object that has all the filters applied\n",
    "filteredCollection = ee.ImageCollection(data_product).filterBounds(geometry).filterDate(start, end).select(sel_bands).filterMetadata('CLOUD_COVER', 'less_than', 30)\n",
    "\n",
    "\n"
   ]
  },
  {
   "cell_type": "markdown",
   "metadata": {},
   "source": []
  },
  {
   "cell_type": "code",
   "execution_count": null,
   "metadata": {},
   "outputs": [
    {
     "name": "stdout",
     "output_type": "stream",
     "text": []
    }
   ],
   "source": [
    "#creates a temp folder to download the images to\n",
    "save_folder = 'RnkUmmi_Landsat-7'\n",
    "os.makedirs(save_folder, exist_ok=True)\n",
    "\n",
    "#For loops that traverses all the years sequentially\n",
    "for year in range(1999,2013):\n",
    "    start = ee.Date(f'{year}-07-20')\n",
    "    end = ee.Date(f'{year}-09-10')\n",
    "\n",
    "    #This is a imageCollection object that has all the filters applied\n",
    "    #Creates a new collection everytime there is a new year \n",
    "    filteredCollection = ee.ImageCollection(data_product).filterBounds(geometry).filterDate(start, end).select(sel_bands).filterMetadata('CLOUD_COVER', 'less_than', 30)\n",
    "\n",
    "    #Why is this list created? Its an object that holds pictures. Just need the pictures\n",
    "    filtered_list=filteredCollection.toList(filteredCollection.size())\n",
    "    #gets the count of the list \n",
    "    filteredCount = filtered_list.size().getInfo()\n",
    "    print(\"Filtered count is %d\"%(filteredCount))\n",
    "    print(f\"year is {year}, {start.format('UTC').getInfo()} and {end.format('UTC').getInfo()}\")\n",
    "    \n",
    "    #for loop that traveses all the pictures in the list\n",
    "    for i in range(filteredCount):\n",
    "        #Make sure the list are inside the geometry object\n",
    "        image = ee.Image(filtered_list.get(i)).clip(geometry)\n",
    "        #Prints and formats the name of the GeoTIFF that is being downloaded\n",
    "        fname = image.get('system:id').getInfo().split('/')[-1]\n",
    "        print(\"downloading %s\"%fname)\n",
    "        try:\n",
    "            #creates the download url for the image\n",
    "            url = image.getDownloadURL()\n",
    "\n",
    "            #makes a request to download the image\n",
    "            r=requests.get(url)\n",
    "        except Exception as e:\n",
    "            print(\"Failed to get Download URL\")\n",
    "            print(url)\n",
    "\n",
    "        #names each file \n",
    "        filename = f\"data_{i}.zip\"\n",
    "        filepath = os.path.join(save_folder, filename)\n",
    "        print(f\"Downloading to: {filepath}, {i} in Filtered Count\")\n",
    "        try:\n",
    "            #Download and saves the image\n",
    "            with open(filepath, 'wb') as f:\n",
    "                f.write(r.content)\n",
    "        except Exception as e:\n",
    "            print(f\"Error failure to download\")\n",
    "        try:\n",
    "            with zipfile.ZipFile(filepath) as f:\n",
    "                files = f.namelist()\n",
    "                f.extractall(save_folder)\n",
    "            os.remove(filepath)\n",
    "            print(f\"Downloaded {filename}\")\n",
    "            print(f'Extracted {files} tif files from {filename}')\n",
    "        except zipfile.BadZipFile:\n",
    "            print('Skipping - Not a valid ZIP file')\n",
    "        except Exception as e:\n",
    "            print('Error extracting')\n",
    "\n",
    "\n",
    "print(\"Downloading complete\")\n",
    "#Downloads the data locally # name='./'+save_folder+'/'+'data.zip'\n",
    "# path='./'+save_folder\n"
   ]
  }
 ],
 "metadata": {
  "kernelspec": {
   "display_name": "Python 3",
   "language": "python",
   "name": "python3"
  },
  "language_info": {
   "codemirror_mode": {
    "name": "ipython",
    "version": 3
   },
   "file_extension": ".py",
   "mimetype": "text/x-python",
   "name": "python",
   "nbconvert_exporter": "python",
   "pygments_lexer": "ipython3",
   "version": "3.10.12"
  }
 },
 "nbformat": 4,
 "nbformat_minor": 2
}
